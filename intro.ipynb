{
 "cells": [
  {
   "cell_type": "markdown",
   "metadata": {},
   "source": [
    "# Python list"
   ]
  },
  {
   "cell_type": "code",
   "execution_count": null,
   "metadata": {},
   "outputs": [],
   "source": [
    "k=[1,2,3]\n",
    "k.append(206)\n",
    "print(k)\n",
    "print(k.append(3))\n",
    "print(k)\n",
    "print(k.count(3))\n",
    "print(k.index(3))\n",
    "print(k.reverse())\n",
    "print(k.sort(reverse=False))"
   ]
  },
  {
   "cell_type": "code",
   "execution_count": null,
   "metadata": {},
   "outputs": [],
   "source": [
    "# multiple assignment\n",
    "name, age, attractive = \"nasr\", 21,True\n",
    "print(name,age,attractive)"
   ]
  },
  {
   "cell_type": "code",
   "execution_count": null,
   "metadata": {},
   "outputs": [],
   "source": [
    "#string Methods\n",
    "\n",
    "name=\"Nasr Elzanaty\"\n",
    "print(len(name))\n",
    "print(name.find(\"n\"))\n",
    "print(name.find(\"E'\"))\n",
    "print(name.index(\"a\"))\n",
    "print(name.capitalize())\n",
    "print(name.upper())\n",
    "print(name.lower())\n",
    "print(name.count(\"a\"))\n",
    "print(name.isalnum())\n",
    "print(name.isalpha())\n",
    "print(name.isdecimal())\n",
    "print(name.isprintable())\n",
    "print(name.isdigit())\n",
    "print(name.isupper())\n",
    "print(name.isnumeric())\n",
    "print(name.replace(\"a\",\"k\"))\n",
    "print(name*3)"
   ]
  },
  {
   "cell_type": "code",
   "execution_count": null,
   "metadata": {},
   "outputs": [],
   "source": []
  }
 ],
 "metadata": {
  "interpreter": {
   "hash": "2be5faf79681da6f2a61fdfdd5405d65d042280f7fba6178067603e3a2925119"
  },
  "kernelspec": {
   "display_name": "Python 3.10.0 64-bit",
   "language": "python",
   "name": "python3"
  },
  "language_info": {
   "codemirror_mode": {
    "name": "ipython",
    "version": 3
   },
   "file_extension": ".py",
   "mimetype": "text/x-python",
   "name": "python",
   "nbconvert_exporter": "python",
   "pygments_lexer": "ipython3",
   "version": "3.10.0"
  },
  "orig_nbformat": 4
 },
 "nbformat": 4,
 "nbformat_minor": 2
}
